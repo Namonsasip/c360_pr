{
 "cells": [
  {
   "cell_type": "code",
   "execution_count": 1,
   "metadata": {},
   "outputs": [],
   "source": [
    "import findspark, os, pandas as pd\n",
    "os.environ[\"SPARK_HOME\"]=\"/Users/ankitkansal/spark/spark-2.4.4-bin-without-hadoop\"\n",
    "findspark.init()"
   ]
  },
  {
   "cell_type": "code",
   "execution_count": 2,
   "metadata": {},
   "outputs": [],
   "source": [
    "import pyspark\n",
    "import datetime\n",
    "import re\n",
    "from functools import reduce\n",
    "import pandas as pd\n",
    "from pyspark import SparkContext, sql\n",
    "from pyspark.sql import functions as F, SparkSession\n",
    "from pyspark.sql.functions import udf\n",
    "from pyspark.sql.types import *\n",
    "from pyspark.sql.functions import array, col, explode, lit, struct\n",
    "from pyspark.sql import DataFrame\n",
    "from typing import Iterable"
   ]
  },
  {
   "cell_type": "code",
   "execution_count": 3,
   "metadata": {},
   "outputs": [],
   "source": [
    "spark = SparkSession.builder.getOrCreate()"
   ]
  },
  {
   "cell_type": "code",
   "execution_count": 3,
   "metadata": {},
   "outputs": [],
   "source": [
    "def melt(df: DataFrame,\n",
    "         id_vars: Iterable[str], value_vars: Iterable[str],\n",
    "         var_name: str = \"variable\", value_name: str = \"value\") -> DataFrame:\n",
    "    \"\"\"Convert :class:`DataFrame` from wide to long format.\"\"\"\n",
    "    # Create array<struct<variable: str, value: ...>>\n",
    "    _vars_and_vals = array(*(\n",
    "        struct(lit(c).alias(var_name), col(c).alias(value_name))\n",
    "        for c in value_vars))\n",
    "    # Add to the DataFrame and explode\n",
    "    _tmp = df.withColumn(\"_vars_and_vals\", explode(_vars_and_vals))\n",
    "    cols = id_vars + [\n",
    "        col(\"_vars_and_vals\")[x].alias(x) for x in [var_name, value_name]]\n",
    "    return _tmp.select(*cols)"
   ]
  },
  {
   "cell_type": "code",
   "execution_count": 4,
   "metadata": {},
   "outputs": [],
   "source": [
    "def _build_qc_df_from_func(agg_function, df, label, column_dtype=None):\n",
    "    \"\"\"\n",
    "    Args:\n",
    "        agg_function:\n",
    "        df:\n",
    "        label:\n",
    "        column_dtype:\n",
    "    Returns:\n",
    "    \"\"\"\n",
    "    ss = SparkSession.builder.getOrCreate()\n",
    "    sc = SparkContext.getOrCreate()\n",
    "    columns = []\n",
    "    schema = [(x.name, str(x.dataType)) for x in df.schema.fields]\n",
    "    if not column_dtype:\n",
    "        columns = df.columns\n",
    "    elif 'string' in column_dtype:\n",
    "        columns = columns + [x[0] for x in schema if x[1] in ['StringType']]\n",
    "    elif 'numeric' in column_dtype:\n",
    "        columns = columns + [x[0] for x in schema if re.match(\n",
    "            '|'.join(['DecimalType', 'DoubleType', 'FloatType', 'IntegerType', 'LongType', 'ShortType']), x[1])]\n",
    "    elif 'date' in column_dtype:\n",
    "        columns = columns + [x[0] for x in schema if x[1] in ['DateType', 'TimestampType']]\n",
    "    elif 'bool' in column_dtype:\n",
    "        columns = columns + [x[0] for x in schema if x[1] in ['BooleanType']]\n",
    "    elif 'qty' in column_dtype:\n",
    "        columns = columns + [x[0] for x in schema if 'qty' in x[0]]\n",
    "    else:\n",
    "        raise ValueError('unsupported column_dtype argument: {}'.format(column_dtype))\n",
    "    if len(columns) == 0:\n",
    "        output = ss.createDataFrame(sc.emptyRDD(),\n",
    "                                    StructType(\n",
    "                                        [StructField('field', StringType()), StructField(label, StringType())]))\n",
    "    else:\n",
    "        col_batch_list = [columns[x:x + 10] for x in range(0, len(columns), 10)]\n",
    "        df_list = [df.agg(*[agg_function(x).alias(x) for x in column_batch]) for\n",
    "                   column_batch in col_batch_list]\n",
    "        wrking_df = reduce(lambda x, y: x.crossJoin(y), df_list).withColumn('temp', F.lit(\"DISCARD\"))\n",
    "        melted_df = melt(wrking_df, ['temp'], columns).drop('temp') \\\n",
    "            .withColumnRenamed('value', label) \\\n",
    "            .withColumnRenamed('variable', 'field')\n",
    "        output = melted_df\n",
    "    return output"
   ]
  },
  {
   "cell_type": "code",
   "execution_count": 13,
   "metadata": {},
   "outputs": [],
   "source": [
    "def _generate_qc_summary_table(wrk_df: sql.DataFrame, table_name: str) -> sql.DataFrame:\n",
    "    \"\"\"\n",
    "    Args:\n",
    "        wrk_df:\n",
    "    Returns:\n",
    "    \"\"\"\n",
    "    ss = SparkSession.builder.getOrCreate()\n",
    "    aggregate_stats_pandas = [\n",
    "        _build_qc_df_from_func(lambda x: F.count(F.col(x)), df=wrk_df, label='n'),\n",
    "        _build_qc_df_from_func(lambda x: F.countDistinct(F.col(x)), df=wrk_df, label='n_distinct'),\n",
    "        _build_qc_df_from_func(lambda x: F.sum(F.when(F.col(x).isNull(), 1).otherwise(0)), df=wrk_df,\n",
    "                               label='is_null_cnt')\n",
    "        ,\n",
    "        _build_qc_df_from_func(lambda x: F.sum((F.col(x).isNotNull().cast('integer'))), df=wrk_df,\n",
    "                               label='is_not_null_cnt'),\n",
    "        _build_qc_df_from_func(lambda x: F.sum(F.col(x)).cast('string'), df=wrk_df, label='sum',\n",
    "                               column_dtype=['numeric']),\n",
    "        _build_qc_df_from_func(lambda x: F.avg(F.col(x)).cast('string'), df=wrk_df, label='mean_val',\n",
    "                               column_dtype=['numeric']),\n",
    "        _build_qc_df_from_func(lambda x: F.max(F.col(x)).cast('string'), df=wrk_df, label='max_val',\n",
    "                               column_dtype=['numeric', 'date']),\n",
    "        _build_qc_df_from_func(lambda x: F.min(F.col(x)).cast('string'), df=wrk_df, label='min_val',\n",
    "                               column_dtype=['numeric', 'date']),\n",
    "        _build_qc_df_from_func(lambda x: F.sum((F.col(x) == F.lit('')).cast('integer')), df=wrk_df,\n",
    "                               label='is_blank_count',\n",
    "                               column_dtype=['string'])\n",
    "    ]\n",
    "    total_rows = wrk_df.count()\n",
    "    schema = [(x.name, str(x.dataType)) for x in wrk_df.schema.fields]\n",
    "    dtypes_df = ss.createDataFrame(schema, ['field', 'type'])\n",
    "    aggregation_results = reduce(lambda x, y: x.join(y, 'field', 'outer'), aggregate_stats_pandas)\n",
    "    reduced_df = dtypes_df.join(aggregation_results, 'field', 'left')\n",
    "    missing_data_cols = ['is_null_cnt', 'is_blank_count']\n",
    "    results_df = reduced_df \\\n",
    "        .withColumn('overall_missing_values',\n",
    "                    reduce(lambda x, y: F.coalesce(F.col(x), F.lit(0)) + F.coalesce(F.col(y), F.lit(0)),\n",
    "                           missing_data_cols)) \\\n",
    "        .withColumn('total_rows', F.lit(total_rows)) \\\n",
    "        .withColumn('overall_missing_pct', F.round((F.col('overall_missing_values') / F.col('total_rows')) * 100, 2))\n",
    "    results_df = results_df.select(\"field\",\n",
    "                                   F.col(\"total_rows\").alias(\"tot_rows\"),\n",
    "                                   F.col(\"n_distinct\").alias(\"distinct_vals\"),\n",
    "                                   \"sum\",\n",
    "                                   F.col(\"mean_val\").alias(\"mean\"),\n",
    "                                   F.col(\"max_val\").alias(\"max\"),\n",
    "                                   F.col(\"min_val\").alias(\"min\"),\n",
    "                                   F.col(\"overall_missing_values\").alias(\"tot_missing\"),\n",
    "                                   F.col(\"overall_missing_pct\").alias(\"perc_missing\"),\n",
    "                                   F.lit(table_name).alias(\"table_name\")\n",
    "                                  )\n",
    "    return results_df"
   ]
  },
  {
   "cell_type": "code",
   "execution_count": 4,
   "metadata": {},
   "outputs": [
    {
     "data": {
      "text/html": [
       "\n",
       "            <div>\n",
       "                <p><b>SparkSession - in-memory</b></p>\n",
       "                \n",
       "        <div>\n",
       "            <p><b>SparkContext</b></p>\n",
       "\n",
       "            <p><a href=\"http://192.168.1.6:4040\">Spark UI</a></p>\n",
       "\n",
       "            <dl>\n",
       "              <dt>Version</dt>\n",
       "                <dd><code>v2.4.4</code></dd>\n",
       "              <dt>Master</dt>\n",
       "                <dd><code>local[*]</code></dd>\n",
       "              <dt>AppName</dt>\n",
       "                <dd><code>pyspark-shell</code></dd>\n",
       "            </dl>\n",
       "        </div>\n",
       "        \n",
       "            </div>\n",
       "        "
      ],
      "text/plain": [
       "<pyspark.sql.session.SparkSession at 0x119343e10>"
      ]
     },
     "execution_count": 4,
     "metadata": {},
     "output_type": "execute_result"
    }
   ],
   "source": [
    "spark"
   ]
  },
  {
   "cell_type": "code",
   "execution_count": 5,
   "metadata": {},
   "outputs": [],
   "source": [
    "data = {'col_1': ['ankit', 'kansal'], 'col_2': ['hellp', None]}\n",
    "df = pd.DataFrame.from_dict(data)"
   ]
  },
  {
   "cell_type": "code",
   "execution_count": 6,
   "metadata": {},
   "outputs": [
    {
     "data": {
      "text/html": [
       "<div>\n",
       "<style scoped>\n",
       "    .dataframe tbody tr th:only-of-type {\n",
       "        vertical-align: middle;\n",
       "    }\n",
       "\n",
       "    .dataframe tbody tr th {\n",
       "        vertical-align: top;\n",
       "    }\n",
       "\n",
       "    .dataframe thead th {\n",
       "        text-align: right;\n",
       "    }\n",
       "</style>\n",
       "<table border=\"1\" class=\"dataframe\">\n",
       "  <thead>\n",
       "    <tr style=\"text-align: right;\">\n",
       "      <th></th>\n",
       "      <th>col_1</th>\n",
       "      <th>col_2</th>\n",
       "    </tr>\n",
       "  </thead>\n",
       "  <tbody>\n",
       "    <tr>\n",
       "      <th>0</th>\n",
       "      <td>ankit</td>\n",
       "      <td>hellp</td>\n",
       "    </tr>\n",
       "    <tr>\n",
       "      <th>1</th>\n",
       "      <td>kansal</td>\n",
       "      <td>None</td>\n",
       "    </tr>\n",
       "  </tbody>\n",
       "</table>\n",
       "</div>"
      ],
      "text/plain": [
       "    col_1  col_2\n",
       "0   ankit  hellp\n",
       "1  kansal   None"
      ]
     },
     "execution_count": 6,
     "metadata": {},
     "output_type": "execute_result"
    }
   ],
   "source": [
    "df"
   ]
  },
  {
   "cell_type": "code",
   "execution_count": 8,
   "metadata": {},
   "outputs": [],
   "source": [
    "spark_df = spark.createDataFrame(df)"
   ]
  },
  {
   "cell_type": "code",
   "execution_count": 15,
   "metadata": {},
   "outputs": [
    {
     "name": "stdout",
     "output_type": "stream",
     "text": [
      "+------+-----+-------------+\n",
      "| col_1|col_2|       concat|\n",
      "+------+-----+-------------+\n",
      "| ankit|hellp|ankit | hellp|\n",
      "|kansal| null|       kansal|\n",
      "+------+-----+-------------+\n",
      "\n"
     ]
    }
   ],
   "source": [
    "spark_df.withColumn(\"concat\", F.concat_ws(\" | \", F.col(\"col_1\"), F.col(\"col_2\"))).show()"
   ]
  },
  {
   "cell_type": "code",
   "execution_count": 47,
   "metadata": {},
   "outputs": [],
   "source": [
    "new_df = spark.read.csv(\"/Users/ankitkansal/Desktop/test.csv\", header=True)"
   ]
  },
  {
   "cell_type": "code",
   "execution_count": 48,
   "metadata": {},
   "outputs": [
    {
     "data": {
      "text/html": [
       "<div>\n",
       "<style scoped>\n",
       "    .dataframe tbody tr th:only-of-type {\n",
       "        vertical-align: middle;\n",
       "    }\n",
       "\n",
       "    .dataframe tbody tr th {\n",
       "        vertical-align: top;\n",
       "    }\n",
       "\n",
       "    .dataframe thead th {\n",
       "        text-align: right;\n",
       "    }\n",
       "</style>\n",
       "<table border=\"1\" class=\"dataframe\">\n",
       "  <thead>\n",
       "    <tr style=\"text-align: right;\">\n",
       "      <th></th>\n",
       "      <th>PTID</th>\n",
       "      <th>TREATMENT_START</th>\n",
       "      <th>TREATMENT_END</th>\n",
       "      <th>OBS_BEFORETM_ALCOHOL_CONSUMES_FLAG</th>\n",
       "      <th>OBS_BEFORETM_BMI_HIGH_FLAG</th>\n",
       "      <th>OBS_BEFORETM_BMI_NORMAL_FLAG</th>\n",
       "      <th>OBS_BEFORETM_SMOKE_1_FLAG</th>\n",
       "    </tr>\n",
       "  </thead>\n",
       "  <tbody>\n",
       "    <tr>\n",
       "      <th>0</th>\n",
       "      <td>1</td>\n",
       "      <td>20190722 00:00:00</td>\n",
       "      <td>20191217 00:00:00</td>\n",
       "      <td>1</td>\n",
       "      <td>None</td>\n",
       "      <td>1</td>\n",
       "      <td>1</td>\n",
       "    </tr>\n",
       "    <tr>\n",
       "      <th>1</th>\n",
       "      <td>1</td>\n",
       "      <td>20190717 00:00:00</td>\n",
       "      <td>20200217 00:00:00</td>\n",
       "      <td>1</td>\n",
       "      <td>None</td>\n",
       "      <td>None</td>\n",
       "      <td>1</td>\n",
       "    </tr>\n",
       "  </tbody>\n",
       "</table>\n",
       "</div>"
      ],
      "text/plain": [
       "  PTID TREATMENT_START     TREATMENT_END        \\\n",
       "0    1   20190722 00:00:00   20191217 00:00:00   \n",
       "1    1   20190717 00:00:00   20200217 00:00:00   \n",
       "\n",
       "  OBS_BEFORETM_ALCOHOL_CONSUMES_FLAG OBS_BEFORETM_BMI_HIGH_FLAG  \\\n",
       "0                                  1                       None   \n",
       "1                                  1                       None   \n",
       "\n",
       "  OBS_BEFORETM_BMI_NORMAL_FLAG OBS_BEFORETM_SMOKE_1_FLAG  \n",
       "0                            1                         1  \n",
       "1                         None                         1  "
      ]
     },
     "execution_count": 48,
     "metadata": {},
     "output_type": "execute_result"
    }
   ],
   "source": [
    "new_df.toPandas()"
   ]
  },
  {
   "cell_type": "code",
   "execution_count": 49,
   "metadata": {},
   "outputs": [],
   "source": [
    "orignal_df_columns = new_df.columns"
   ]
  },
  {
   "cell_type": "code",
   "execution_count": 50,
   "metadata": {},
   "outputs": [],
   "source": [
    "super_type_cols = [\"ALCOHOL\", \"BMI\", \"SMOKE\"]"
   ]
  },
  {
   "cell_type": "code",
   "execution_count": 51,
   "metadata": {},
   "outputs": [],
   "source": [
    "test_df = new_df\n",
    "for above_col in super_type_cols:\n",
    "    local_list = []\n",
    "    new_col_decide = above_col+\"_DECIDE\"\n",
    "    for col in orignal_df_columns:\n",
    "        if above_col in col:\n",
    "            local_list.append(\"coalesce({}, 0)\".format(col))\n",
    "        else:\n",
    "            pass;\n",
    "    sel_string = \" + \".join(local_list)+\" as \"+new_col_decide\n",
    "    test_df = test_df.select(\"*\", F.expr(sel_string))"
   ]
  },
  {
   "cell_type": "code",
   "execution_count": 68,
   "metadata": {},
   "outputs": [
    {
     "data": {
      "text/html": [
       "<div>\n",
       "<style scoped>\n",
       "    .dataframe tbody tr th:only-of-type {\n",
       "        vertical-align: middle;\n",
       "    }\n",
       "\n",
       "    .dataframe tbody tr th {\n",
       "        vertical-align: top;\n",
       "    }\n",
       "\n",
       "    .dataframe thead th {\n",
       "        text-align: right;\n",
       "    }\n",
       "</style>\n",
       "<table border=\"1\" class=\"dataframe\">\n",
       "  <thead>\n",
       "    <tr style=\"text-align: right;\">\n",
       "      <th></th>\n",
       "      <th>PTID</th>\n",
       "      <th>TREATMENT_START</th>\n",
       "      <th>TREATMENT_END</th>\n",
       "      <th>OBS_BEFORETM_ALCOHOL_CONSUMES_FLAG</th>\n",
       "      <th>OBS_BEFORETM_BMI_HIGH_FLAG</th>\n",
       "      <th>OBS_BEFORETM_BMI_NORMAL_FLAG</th>\n",
       "      <th>OBS_BEFORETM_SMOKE_1_FLAG</th>\n",
       "      <th>ALCOHOL_DECIDE</th>\n",
       "      <th>BMI_DECIDE</th>\n",
       "      <th>SMOKE_DECIDE</th>\n",
       "    </tr>\n",
       "  </thead>\n",
       "  <tbody>\n",
       "    <tr>\n",
       "      <th>0</th>\n",
       "      <td>1</td>\n",
       "      <td>20190722 00:00:00</td>\n",
       "      <td>20191217 00:00:00</td>\n",
       "      <td>1</td>\n",
       "      <td>None</td>\n",
       "      <td>1</td>\n",
       "      <td>1</td>\n",
       "      <td>1</td>\n",
       "      <td>1.0</td>\n",
       "      <td>1</td>\n",
       "    </tr>\n",
       "    <tr>\n",
       "      <th>1</th>\n",
       "      <td>1</td>\n",
       "      <td>20190717 00:00:00</td>\n",
       "      <td>20200217 00:00:00</td>\n",
       "      <td>1</td>\n",
       "      <td>None</td>\n",
       "      <td>None</td>\n",
       "      <td>1</td>\n",
       "      <td>1</td>\n",
       "      <td>0.0</td>\n",
       "      <td>1</td>\n",
       "    </tr>\n",
       "  </tbody>\n",
       "</table>\n",
       "</div>"
      ],
      "text/plain": [
       "  PTID TREATMENT_START     TREATMENT_END        \\\n",
       "0    1   20190722 00:00:00   20191217 00:00:00   \n",
       "1    1   20190717 00:00:00   20200217 00:00:00   \n",
       "\n",
       "  OBS_BEFORETM_ALCOHOL_CONSUMES_FLAG OBS_BEFORETM_BMI_HIGH_FLAG  \\\n",
       "0                                  1                       None   \n",
       "1                                  1                       None   \n",
       "\n",
       "  OBS_BEFORETM_BMI_NORMAL_FLAG OBS_BEFORETM_SMOKE_1_FLAG ALCOHOL_DECIDE  \\\n",
       "0                            1                         1              1   \n",
       "1                         None                         1              1   \n",
       "\n",
       "   BMI_DECIDE SMOKE_DECIDE  \n",
       "0         1.0            1  \n",
       "1         0.0            1  "
      ]
     },
     "execution_count": 68,
     "metadata": {},
     "output_type": "execute_result"
    }
   ],
   "source": [
    "test_df.toPandas()"
   ]
  },
  {
   "cell_type": "code",
   "execution_count": 63,
   "metadata": {},
   "outputs": [],
   "source": [
    "final_df = test_df\n",
    "for above_col in super_type_cols:\n",
    "    local_list = []\n",
    "    new_col_decide = above_col+\"_DECIDE\"\n",
    "    for col in orignal_df_columns:\n",
    "        if above_col in col:\n",
    "            temp_str = \"CASE WHEN {0} = 1 AND {1} = 1 THEN 1 WHEN {0} = 1 AND {1} IS NULL THEN 0 ELSE NULL END AS {1}\".format(new_col_decide, col)\n",
    "            final_df = final_df.withColumn(col, F.expr(temp_str))\n",
    "        else:\n",
    "            pass;"
   ]
  },
  {
   "cell_type": "code",
   "execution_count": 66,
   "metadata": {},
   "outputs": [
    {
     "data": {
      "text/html": [
       "<div>\n",
       "<style scoped>\n",
       "    .dataframe tbody tr th:only-of-type {\n",
       "        vertical-align: middle;\n",
       "    }\n",
       "\n",
       "    .dataframe tbody tr th {\n",
       "        vertical-align: top;\n",
       "    }\n",
       "\n",
       "    .dataframe thead th {\n",
       "        text-align: right;\n",
       "    }\n",
       "</style>\n",
       "<table border=\"1\" class=\"dataframe\">\n",
       "  <thead>\n",
       "    <tr style=\"text-align: right;\">\n",
       "      <th></th>\n",
       "      <th>PTID</th>\n",
       "      <th>TREATMENT_START</th>\n",
       "      <th>TREATMENT_END</th>\n",
       "      <th>OBS_BEFORETM_ALCOHOL_CONSUMES_FLAG</th>\n",
       "      <th>OBS_BEFORETM_BMI_HIGH_FLAG</th>\n",
       "      <th>OBS_BEFORETM_BMI_NORMAL_FLAG</th>\n",
       "      <th>OBS_BEFORETM_SMOKE_1_FLAG</th>\n",
       "    </tr>\n",
       "  </thead>\n",
       "  <tbody>\n",
       "    <tr>\n",
       "      <th>0</th>\n",
       "      <td>1</td>\n",
       "      <td>20190722 00:00:00</td>\n",
       "      <td>20191217 00:00:00</td>\n",
       "      <td>1</td>\n",
       "      <td>None</td>\n",
       "      <td>1</td>\n",
       "      <td>1</td>\n",
       "    </tr>\n",
       "    <tr>\n",
       "      <th>1</th>\n",
       "      <td>1</td>\n",
       "      <td>20190717 00:00:00</td>\n",
       "      <td>20200217 00:00:00</td>\n",
       "      <td>1</td>\n",
       "      <td>None</td>\n",
       "      <td>None</td>\n",
       "      <td>1</td>\n",
       "    </tr>\n",
       "  </tbody>\n",
       "</table>\n",
       "</div>"
      ],
      "text/plain": [
       "  PTID TREATMENT_START     TREATMENT_END        \\\n",
       "0    1   20190722 00:00:00   20191217 00:00:00   \n",
       "1    1   20190717 00:00:00   20200217 00:00:00   \n",
       "\n",
       "  OBS_BEFORETM_ALCOHOL_CONSUMES_FLAG OBS_BEFORETM_BMI_HIGH_FLAG  \\\n",
       "0                                  1                       None   \n",
       "1                                  1                       None   \n",
       "\n",
       "  OBS_BEFORETM_BMI_NORMAL_FLAG OBS_BEFORETM_SMOKE_1_FLAG  \n",
       "0                            1                         1  \n",
       "1                         None                         1  "
      ]
     },
     "execution_count": 66,
     "metadata": {},
     "output_type": "execute_result"
    }
   ],
   "source": [
    "new_df.toPandas()"
   ]
  },
  {
   "cell_type": "code",
   "execution_count": 67,
   "metadata": {},
   "outputs": [
    {
     "data": {
      "text/html": [
       "<div>\n",
       "<style scoped>\n",
       "    .dataframe tbody tr th:only-of-type {\n",
       "        vertical-align: middle;\n",
       "    }\n",
       "\n",
       "    .dataframe tbody tr th {\n",
       "        vertical-align: top;\n",
       "    }\n",
       "\n",
       "    .dataframe thead th {\n",
       "        text-align: right;\n",
       "    }\n",
       "</style>\n",
       "<table border=\"1\" class=\"dataframe\">\n",
       "  <thead>\n",
       "    <tr style=\"text-align: right;\">\n",
       "      <th></th>\n",
       "      <th>PTID</th>\n",
       "      <th>TREATMENT_START</th>\n",
       "      <th>TREATMENT_END</th>\n",
       "      <th>OBS_BEFORETM_ALCOHOL_CONSUMES_FLAG</th>\n",
       "      <th>OBS_BEFORETM_BMI_HIGH_FLAG</th>\n",
       "      <th>OBS_BEFORETM_BMI_NORMAL_FLAG</th>\n",
       "      <th>OBS_BEFORETM_SMOKE_1_FLAG</th>\n",
       "    </tr>\n",
       "  </thead>\n",
       "  <tbody>\n",
       "    <tr>\n",
       "      <th>0</th>\n",
       "      <td>1</td>\n",
       "      <td>20190722 00:00:00</td>\n",
       "      <td>20191217 00:00:00</td>\n",
       "      <td>1</td>\n",
       "      <td>0.0</td>\n",
       "      <td>1.0</td>\n",
       "      <td>1</td>\n",
       "    </tr>\n",
       "    <tr>\n",
       "      <th>1</th>\n",
       "      <td>1</td>\n",
       "      <td>20190717 00:00:00</td>\n",
       "      <td>20200217 00:00:00</td>\n",
       "      <td>1</td>\n",
       "      <td>NaN</td>\n",
       "      <td>NaN</td>\n",
       "      <td>1</td>\n",
       "    </tr>\n",
       "  </tbody>\n",
       "</table>\n",
       "</div>"
      ],
      "text/plain": [
       "  PTID TREATMENT_START     TREATMENT_END        \\\n",
       "0    1   20190722 00:00:00   20191217 00:00:00   \n",
       "1    1   20190717 00:00:00   20200217 00:00:00   \n",
       "\n",
       "   OBS_BEFORETM_ALCOHOL_CONSUMES_FLAG  OBS_BEFORETM_BMI_HIGH_FLAG  \\\n",
       "0                                   1                         0.0   \n",
       "1                                   1                         NaN   \n",
       "\n",
       "   OBS_BEFORETM_BMI_NORMAL_FLAG  OBS_BEFORETM_SMOKE_1_FLAG  \n",
       "0                           1.0                          1  \n",
       "1                           NaN                          1  "
      ]
     },
     "execution_count": 67,
     "metadata": {},
     "output_type": "execute_result"
    }
   ],
   "source": [
    "final_df.select(orignal_df_columns).toPandas()"
   ]
  },
  {
   "cell_type": "code",
   "execution_count": null,
   "metadata": {},
   "outputs": [],
   "source": []
  }
 ],
 "metadata": {
  "kernelspec": {
   "display_name": "Python 3",
   "language": "python",
   "name": "python3"
  },
  "language_info": {
   "codemirror_mode": {
    "name": "ipython",
    "version": 3
   },
   "file_extension": ".py",
   "mimetype": "text/x-python",
   "name": "python",
   "nbconvert_exporter": "python",
   "pygments_lexer": "ipython3",
   "version": "3.7.3"
  }
 },
 "nbformat": 4,
 "nbformat_minor": 4
}
