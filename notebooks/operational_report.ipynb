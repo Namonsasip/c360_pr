{
 "cells": [
  {
   "cell_type": "code",
   "execution_count": null,
   "metadata": {},
   "outputs": [],
   "source": [
    "run_env = 'on_cloud'\n",
    "# 'on_cloud' / 'on_premise'"
   ]
  },
  {
   "cell_type": "code",
   "execution_count": 1,
   "metadata": {},
   "outputs": [
    {
     "data": {
      "text/html": [
       "<style scoped>\n",
       "  .ansiout {\n",
       "    display: block;\n",
       "    unicode-bidi: embed;\n",
       "    white-space: pre-wrap;\n",
       "    word-wrap: break-word;\n",
       "    word-break: break-all;\n",
       "    font-family: \"Source Code Pro\", \"Menlo\", monospace;;\n",
       "    font-size: 13px;\n",
       "    color: #555;\n",
       "    margin-left: 4px;\n",
       "    line-height: 19px;\n",
       "  }\n",
       "</style>\n",
       "<div class=\"ansiout\"></div>"
      ]
     },
     "metadata": {},
     "output_type": "display_data"
    }
   ],
   "source": [
    "#Importing spark session and spark configurations\n",
    "from pyspark.sql import SparkSession\n",
    "def _get_spark():\n",
    "  spark = SparkSession.builder.appName(\"project_customer_360_ops_report\").getOrCreate()\n",
    "  spark.conf.set(\"spark.sql.sources.partitionOverwriteMode\", \"dynamic\")\n",
    "  spark.conf.set(\"spark.sql.parquet.binaryAsString\", \"true\")\n",
    "  spark.conf.set(\"spark.sql.shuffle.partitions\", 200)\n",
    "  spark.conf.set(\"spark.sql.files.maxPartitionBytes\", 1024*1024*256)\n",
    "  return spark\n",
    "spark = _get_spark()\n",
    "spark.conf.set(\"spark.sql.sources.partitionOverwriteMode\", \"dynamic\")"
   ]
  },
  {
   "cell_type": "code",
   "execution_count": 2,
   "metadata": {},
   "outputs": [
    {
     "data": {
      "text/html": [
       "<style scoped>\n",
       "  .ansiout {\n",
       "    display: block;\n",
       "    unicode-bidi: embed;\n",
       "    white-space: pre-wrap;\n",
       "    word-wrap: break-word;\n",
       "    word-break: break-all;\n",
       "    font-family: \"Source Code Pro\", \"Menlo\", monospace;;\n",
       "    font-size: 13px;\n",
       "    color: #555;\n",
       "    margin-left: 4px;\n",
       "    line-height: 19px;\n",
       "  }\n",
       "</style>\n",
       "<div class=\"ansiout\"></div>"
      ]
     },
     "metadata": {},
     "output_type": "display_data"
    }
   ],
   "source": [
    "#importing required spark functions\n",
    "from pyspark.sql import functions as f\n",
    "from pyspark.sql.functions import expr, col"
   ]
  },
  {
   "cell_type": "code",
   "execution_count": null,
   "outputs": [],
   "source": [
    "#Reading the latest metadata table and filtering the unwanted datasets /layers\n",
    "if run_env == 'on_cloud'\n",
    "    mtdt_tbl = spark.read.parquet('/mnt/customer360-blob-output/C360/UTILITIES/metadata_table')\n",
    "else:\n",
    "    mtdt_tbl = spark.read.parquet('/projects/prod/c360/data/UTILITIES/metadata_table')\n",
    "ops_report = mtdt_tbl.where(\"table_name not like '%l4%'\")\n",
    "ops_report = ops_report.where(\"table_name not in ('int_l0_streaming_vimmi_table')\")"
   ],
   "metadata": {
    "collapsed": false,
    "pycharm": {
     "name": "#%%\n"
    }
   }
  },
  {
   "cell_type": "code",
   "execution_count": 3,
   "metadata": {},
   "outputs": [
    {
     "data": {
      "text/html": [
       "<style scoped>\n",
       "  .ansiout {\n",
       "    display: block;\n",
       "    unicode-bidi: embed;\n",
       "    white-space: pre-wrap;\n",
       "    word-wrap: break-word;\n",
       "    word-break: break-all;\n",
       "    font-family: \"Source Code Pro\", \"Menlo\", monospace;;\n",
       "    font-size: 13px;\n",
       "    color: #555;\n",
       "    margin-left: 4px;\n",
       "    line-height: 19px;\n",
       "  }\n",
       "</style>\n",
       "<div class=\"ansiout\"></div>"
      ]
     },
     "metadata": {},
     "output_type": "display_data"
    }
   ],
   "source": [
    "#Finding the latest record of every dataset based on updated_on and target_max_data_load_date column.\n",
    "ops_report = ops_report.withColumn(\"rn\", expr(\"row_number() over (partition by table_name order by updated_on desc,target_max_data_load_date desc)\") )\n",
    "ops_report = ops_report.filter(\"rn = 1\").drop(\"rn\")"
   ]
  },
  {
   "cell_type": "code",
   "execution_count": 4,
   "metadata": {},
   "outputs": [
    {
     "data": {
      "text/html": [
       "<style scoped>\n",
       "  .ansiout {\n",
       "    display: block;\n",
       "    unicode-bidi: embed;\n",
       "    white-space: pre-wrap;\n",
       "    word-wrap: break-word;\n",
       "    word-break: break-all;\n",
       "    font-family: \"Source Code Pro\", \"Menlo\", monospace;;\n",
       "    font-size: 13px;\n",
       "    color: #555;\n",
       "    margin-left: 4px;\n",
       "    line-height: 19px;\n",
       "  }\n",
       "</style>\n",
       "<div class=\"ansiout\"></div>"
      ]
     },
     "metadata": {},
     "output_type": "display_data"
    }
   ],
   "source": [
    "#Finding the latest record of every dataset based on updated_on and target_max_data_load_date column.\n",
    "ops_report = ops_report.withColumn(\"rn\", expr(\"row_number() over (partition by table_name order by updated_on desc,target_max_data_load_date desc)\") )\n",
    "ops_report = ops_report.filter(\"rn = 1\").drop(\"rn\")"
   ]
  },
  {
   "cell_type": "code",
   "execution_count": 5,
   "metadata": {},
   "outputs": [
    {
     "data": {
      "text/html": [
       "<style scoped>\n",
       "  .ansiout {\n",
       "    display: block;\n",
       "    unicode-bidi: embed;\n",
       "    white-space: pre-wrap;\n",
       "    word-wrap: break-word;\n",
       "    word-break: break-all;\n",
       "    font-family: \"Source Code Pro\", \"Menlo\", monospace;;\n",
       "    font-size: 13px;\n",
       "    color: #555;\n",
       "    margin-left: 4px;\n",
       "    line-height: 19px;\n",
       "  }\n",
       "</style>\n",
       "<div class=\"ansiout\"></div>"
      ]
     },
     "metadata": {},
     "output_type": "display_data"
    }
   ],
   "source": [
    "#Calculate the Domain name and Feature layer from dataset path\n",
    "ops_report = ops_report.withColumn(\"Domain_Name\", f.split(f.col(\"table_path\"),'/')[4]) \\\n",
    "                      .withColumn(\"Feature_Layer\",f.split(f.col(\"table_path\"),'/')[5]) \\\n",
    "                      .withColumnRenamed(\"table_name\", \"Dataset_Name\") \\\n",
    "                      .withColumnRenamed(\"updated_on\", \"Last_Data_Refresh_Date\")"
   ]
  },
  {
   "cell_type": "code",
   "execution_count": 6,
   "metadata": {},
   "outputs": [
    {
     "data": {
      "text/html": [
       "<style scoped>\n",
       "  .ansiout {\n",
       "    display: block;\n",
       "    unicode-bidi: embed;\n",
       "    white-space: pre-wrap;\n",
       "    word-wrap: break-word;\n",
       "    word-break: break-all;\n",
       "    font-family: \"Source Code Pro\", \"Menlo\", monospace;;\n",
       "    font-size: 13px;\n",
       "    color: #555;\n",
       "    margin-left: 4px;\n",
       "    line-height: 19px;\n",
       "  }\n",
       "</style>\n",
       "<div class=\"ansiout\"></div>"
      ]
     },
     "metadata": {},
     "output_type": "display_data"
    }
   ],
   "source": [
    "#Calculate all the relevant columns of ops report.\n",
    "ops_report = ops_report.withColumn(\"Days_Since_Last_Refresh\", f.datediff(f.current_date(), f.col(\"Last_Data_Refresh_Date\") ) ) \\\n",
    "                       .withColumnRenamed(\"target_max_data_load_date\", \"Latest_Data_Partition_Available\") \\\n",
    "                       .withColumn(\"Data_Refresh_Freq\", f.when( f.lower(f.col(\"Feature_Layer\")) == 'l1_features', \"daily\").when( f.lower(f.col(\"Feature_Layer\")) == 'l2_features', \"weekly\").when(f.lower(f.col(\"Feature_Layer\")) == 'l3_features', \"monthly\").otherwise(\"No_frequency_defined\") ) \\\n",
    "                        .withColumn(\"Data_Latency\", f.when( (f.col(\"Data_Refresh_Freq\") == 'daily'),f.datediff(f.current_date(), f.col(\"Latest_Data_Partition_Available\")) ).when( (f.col(\"Data_Refresh_Freq\") == 'weekly'), f.datediff(f.current_date(), f.date_sub(f.date_add(f.col(\"Latest_Data_Partition_Available\"),7),1)) ).when( (f.col(\"Data_Refresh_Freq\") == 'monthly'),  f.datediff(f.current_date(), f.date_sub(f.add_months(f.col(\"Latest_Data_Partition_Available\"),1),1))  )) \\\n",
    "                       .withColumn(\"Is_Data_Refresh_Today\", f.when(f.current_date() == f.col(\"Last_Data_Refresh_Date\"),\"Y\").otherwise(\"N\")) \\\n",
    "                       .withColumnRenamed(\"table_path\", \"Dataset_Path\") \\\n",
    "                       .withColumn(\"Need_Supervision\", f.when( (f.col(\"Data_Refresh_Freq\") == 'daily') & (f.col(\"Days_Since_Last_Refresh\") > 1) & (f.col(\"Is_Data_Refresh_Today\") == 'N'), \"Y\").when( (f.col(\"Data_Refresh_Freq\") == 'weekly') & (f.col(\"Days_Since_Last_Refresh\") > 7) & (f.col(\"Is_Data_Refresh_Today\") == 'N'), \"Y\").when( (f.col(\"Data_Refresh_Freq\") == 'monthly') & (f.col(\"Days_Since_Last_Refresh\") > 31) & (f.col(\"Is_Data_Refresh_Today\") == 'N'), \"Y\").otherwise(\"N\")  ) \\\n",
    "                      .withColumn(\"ops_report_updated_date\", f.current_date())\n",
    "\n"
   ]
  },
  {
   "cell_type": "code",
   "execution_count": 7,
   "metadata": {},
   "outputs": [
    {
     "data": {
      "text/html": [
       "<style scoped>\n",
       "  .table-result-container {\n",
       "    max-height: 300px;\n",
       "    overflow: auto;\n",
       "  }\n",
       "  table, th, td {\n",
       "    border: 1px solid black;\n",
       "    border-collapse: collapse;\n",
       "  }\n",
       "  th, td {\n",
       "    padding: 5px;\n",
       "  }\n",
       "  th {\n",
       "    text-align: left;\n",
       "  }\n",
       "</style><div class='table-result-container'><table class='table-result'><thead style='background-color: white'><tr><th>Domain_Name</th><th>Feature_Layer</th><th>Dataset_Name</th><th>Last_Data_Refresh_Date</th><th>Days_Since_Last_Refresh</th><th>Latest_Data_Partition_Available</th><th>Data_Latency</th><th>Data_Refresh_Freq</th><th>Is_Data_Refresh_Today</th><th>Need_Supervision</th><th>Dataset_Path</th><th>ops_report_updated_date</th></tr></thead><tbody><tr><td>BILLING</td><td>l2_features</td><td>l2_billing_and_payments_weekly_popular_topup_hour_intermediate</td><td>2020-05-04</td><td>4</td><td>2020-04-20</td><td>12</td><td>weekly</td><td>N</td><td>N</td><td>/mnt/customer360-blob-output/C360/BILLING/l2_features/l2_billing_and_payments_weekly_popular_topup_hour_intermediate/</td><td>2020-05-08</td></tr><tr><td>BILLING</td><td>l3_features</td><td>l3_billing_and_payments_monthly_topup_and_volume</td><td>2020-04-26</td><td>12</td><td>2020-03-01</td><td>38</td><td>monthly</td><td>N</td><td>N</td><td>/mnt/customer360-blob-output/C360/BILLING/l3_features/l3_billing_and_payments_monthly_topup_and_volume/</td><td>2020-05-08</td></tr><tr><td>USAGE</td><td>l1_features</td><td>l1_usage_ru_a_vas_postpaid_usg_daily</td><td>2020-05-08</td><td>0</td><td>2020-04-23</td><td>15</td><td>daily</td><td>Y</td><td>N</td><td>/mnt/customer360-blob-output/C360/USAGE/l1_features/l1_usage_ru_a_vas_postpaid_usg_daily/</td><td>2020-05-08</td></tr><tr><td>USAGE</td><td>l1_features</td><td>l1_usage_incoming_call_relation_sum_ir_daily</td><td>2020-05-07</td><td>1</td><td>2020-04-30</td><td>8</td><td>daily</td><td>N</td><td>N</td><td>/mnt/customer360-blob-output/C360/USAGE/l1_features/l1_usage_incoming_call_relation_sum_ir_daily/</td><td>2020-05-08</td></tr><tr><td>BILLING</td><td>l1_features</td><td>l1_billing_and_payments_daily_time_since_last_top_up</td><td>2020-05-08</td><td>0</td><td>2020-05-01</td><td>7</td><td>daily</td><td>Y</td><td>N</td><td>/mnt/customer360-blob-output/C360/BILLING/l1_features/l1_billing_and_payments_daily_time_since_last_top_up/</td><td>2020-05-08</td></tr><tr><td>BILLING</td><td>l1_features</td><td>l1_billing_and_payments_daily_topup_and_volume</td><td>2020-05-08</td><td>0</td><td>2020-05-01</td><td>7</td><td>daily</td><td>Y</td><td>N</td><td>/mnt/customer360-blob-output/C360/BILLING/l1_features/l1_billing_and_payments_daily_topup_and_volume/</td><td>2020-05-08</td></tr><tr><td>REVENUE</td><td>l3_features</td><td>l3_revenue_postpaid_ru_f_sum_revenue_by_service_monthly</td><td>2020-05-07</td><td>1</td><td>2020-03-01</td><td>38</td><td>monthly</td><td>N</td><td>N</td><td>/mnt/customer360-blob-output/C360/REVENUE/l3_features/l3_revenue_postpaid_ru_f_sum_revenue_by_service_monthly/</td><td>2020-05-08</td></tr><tr><td>PRODUCT</td><td>l1_features</td><td>l1_product_active_fbb_customer_features_daily</td><td>2020-04-07</td><td>31</td><td>2020-03-23</td><td>46</td><td>daily</td><td>N</td><td>Y</td><td>/mnt/customer360-blob-output/C360/PRODUCT/l1_features/l1_product_active_fbb_customer_features_daily/</td><td>2020-05-08</td></tr><tr><td>REVENUE</td><td>l2_features</td><td>l2_revenue_prepaid_pru_f_usage_multi_weekly</td><td>2020-05-04</td><td>4</td><td>2020-04-20</td><td>12</td><td>weekly</td><td>N</td><td>N</td><td>/mnt/customer360-blob-output/C360/REVENUE/l2_features/l2_revenue_prepaid_pru_f_usage_multi_weekly/</td><td>2020-05-08</td></tr><tr><td>STREAM</td><td>l1_features</td><td>l1_streaming_visit_count_and_download_traffic_feature</td><td>2020-04-16</td><td>22</td><td>2020-04-08</td><td>30</td><td>daily</td><td>N</td><td>Y</td><td>/mnt/customer360-blob-output/C360/STREAM/l1_features/l1_streaming_visit_count_and_download_traffic_feature/</td><td>2020-05-08</td></tr><tr><td>CAMPAIGN</td><td>l2_features</td><td>l2_campaign_postpaid_prepaid_weekly</td><td>2020-05-01</td><td>7</td><td>2020-03-30</td><td>33</td><td>weekly</td><td>N</td><td>N</td><td>/mnt/customer360-blob-output/C360/CAMPAIGN/l2_features/l2_campaign_postpaid_prepaid_weekly/</td><td>2020-05-08</td></tr><tr><td>PROFILE</td><td>l3_features</td><td>l3_customer_profile_include_1mo_non_active</td><td>2020-04-07</td><td>31</td><td>2020-02-01</td><td>69</td><td>monthly</td><td>N</td><td>N</td><td>/mnt/customer360-blob-output/C360/PROFILE/l3_features/l3_customer_profile_include_1mo_non_active/</td><td>2020-05-08</td></tr><tr><td>TOUCHPOINTS</td><td>l3_features</td><td>l3_touchpoints_from_call_center_features</td><td>2020-04-08</td><td>30</td><td>2020-03-01</td><td>38</td><td>monthly</td><td>N</td><td>N</td><td>/mnt/customer360-blob-output/C360/TOUCHPOINTS/l3_features/l3_touchpoints_from_call_center_features/</td><td>2020-05-08</td></tr><tr><td>CAMPAIGN</td><td>l2_features</td><td>l2_campaign_top_channel_weekly</td><td>2020-05-01</td><td>7</td><td>2020-03-30</td><td>33</td><td>weekly</td><td>N</td><td>N</td><td>/mnt/customer360-blob-output/C360/CAMPAIGN/l2_features/l2_campaign_top_channel_weekly/</td><td>2020-05-08</td></tr><tr><td>USAGE</td><td>l1_features</td><td>l1_usage_postpaid_prepaid_daily</td><td>2020-05-08</td><td>0</td><td>2020-04-23</td><td>15</td><td>daily</td><td>Y</td><td>N</td><td>/mnt/customer360-blob-output/C360/USAGE/l1_features/l1_usage_postpaid_prepaid_daily/</td><td>2020-05-08</td></tr><tr><td>BILLING</td><td>l2_features</td><td>l2_billing_and_payments_weekly_rpu_roaming</td><td>2020-04-29</td><td>9</td><td>2020-04-13</td><td>19</td><td>weekly</td><td>N</td><td>Y</td><td>/mnt/customer360-blob-output/C360/BILLING/l2_features/l2_billing_and_payments_weekly_rpu_roaming/</td><td>2020-05-08</td></tr><tr><td>DEVICE</td><td>l2_features</td><td>l2_device_summary_with_config_weekly</td><td>2020-05-04</td><td>4</td><td>2020-04-20</td><td>12</td><td>weekly</td><td>N</td><td>N</td><td>/mnt/customer360-blob-output/C360/DEVICE/l2_features/l2_device_summary_with_config_weekly/</td><td>2020-05-08</td></tr><tr><td>CAMPAIGN</td><td>l1_features</td><td>l1_campaign_top_channel_daily</td><td>2020-05-01</td><td>7</td><td>2020-04-10</td><td>28</td><td>daily</td><td>N</td><td>Y</td><td>/mnt/customer360-blob-output/C360/CAMPAIGN/l1_features/l1_campaign_top_channel_daily/</td><td>2020-05-08</td></tr><tr><td>BILLING</td><td>l2_features</td><td>l2_billing_and_payments_weekly_before_top_up_balance</td><td>2020-05-05</td><td>3</td><td>2020-04-20</td><td>12</td><td>weekly</td><td>N</td><td>N</td><td>/mnt/customer360-blob-output/C360/BILLING/l2_features/l2_billing_and_payments_weekly_before_top_up_balance/</td><td>2020-05-08</td></tr><tr><td>BILLING</td><td>l2_features</td><td>l2_billing_and_payments_weekly_top_up_channels</td><td>2020-05-04</td><td>4</td><td>2020-04-20</td><td>12</td><td>weekly</td><td>N</td><td>N</td><td>/mnt/customer360-blob-output/C360/BILLING/l2_features/l2_billing_and_payments_weekly_top_up_channels/</td><td>2020-05-08</td></tr><tr><td>PRODUCT</td><td>l1_features</td><td>l1_product_active_customer_promotion_features_daily</td><td>2020-04-08</td><td>30</td><td>2020-04-08</td><td>30</td><td>daily</td><td>N</td><td>Y</td><td>/mnt/customer360-blob-output/C360/PRODUCT/l1_features/l1_product_active_customer_promotion_features_daily/</td><td>2020-05-08</td></tr><tr><td>USAGE</td><td>l2_features</td><td>l2_usage_postpaid_prepaid_weekly</td><td>2020-05-07</td><td>1</td><td>2020-04-13</td><td>19</td><td>weekly</td><td>N</td><td>N</td><td>/mnt/customer360-blob-output/C360/USAGE/l2_features/l2_usage_postpaid_prepaid_weekly/</td><td>2020-05-08</td></tr><tr><td>PRODUCT</td><td>l2_features</td><td>l2_product_activated_deactivated_features_weekly</td><td>2020-04-09</td><td>29</td><td>2020-04-06</td><td>26</td><td>weekly</td><td>N</td><td>Y</td><td>/mnt/customer360-blob-output/C360/PRODUCT/l2_features/l2_product_activated_deactivated_features_weekly/</td><td>2020-05-08</td></tr><tr><td>BILLING</td><td>l2_features</td><td>l2_billing_and_payments_weekly_popular_topup_day_intermediate</td><td>2020-05-04</td><td>4</td><td>2020-04-20</td><td>12</td><td>weekly</td><td>N</td><td>N</td><td>/mnt/customer360-blob-output/C360/BILLING/l2_features/l2_billing_and_payments_weekly_popular_topup_day_intermediate/</td><td>2020-05-08</td></tr><tr><td>BILLING</td><td>l2_features</td><td>l2_billing_and_payments_weekly_topup_time_diff</td><td>2020-05-04</td><td>4</td><td>2020-04-20</td><td>12</td><td>weekly</td><td>N</td><td>N</td><td>/mnt/customer360-blob-output/C360/BILLING/l2_features/l2_billing_and_payments_weekly_topup_time_diff/</td><td>2020-05-08</td></tr><tr><td>GEO</td><td>l1_features</td><td>l1_geo_usage_sum_data_location_dow_intermediate</td><td>2020-04-30</td><td>8</td><td>2019-12-16</td><td>144</td><td>daily</td><td>N</td><td>Y</td><td>/mnt/customer360-blob-output/C360/GEO/l1_features/l1_geo_usage_sum_data_location_dow_intermediate/</td><td>2020-05-08</td></tr><tr><td>BILLING</td><td>l2_features</td><td>l2_billing_and_payments_weekly_last_three_topup_volume</td><td>2020-05-04</td><td>4</td><td>2020-04-20</td><td>12</td><td>weekly</td><td>N</td><td>N</td><td>/mnt/customer360-blob-output/C360/BILLING/l2_features/l2_billing_and_payments_weekly_last_three_topup_volume/</td><td>2020-05-08</td></tr><tr><td>TOUCHPOINTS</td><td>l3_features</td><td>l3_touchpoints_nim_work_features</td><td>2020-04-08</td><td>30</td><td>2020-04-01</td><td>8</td><td>monthly</td><td>N</td><td>N</td><td>/mnt/customer360-blob-output/C360/TOUCHPOINTS/l3_features/l3_touchpoints_nim_work_features/</td><td>2020-05-08</td></tr><tr><td>PROFILE</td><td>l3_features</td><td>l3_customer_profile_billing_level_features</td><td>2020-04-07</td><td>31</td><td>2020-02-01</td><td>69</td><td>monthly</td><td>N</td><td>N</td><td>/mnt/customer360-blob-output/C360/PROFILE/l3_features/l3_customer_profile_billing_level_features/</td><td>2020-05-08</td></tr><tr><td>USAGE</td><td>l1_features</td><td>l1_usage_outgoing_call_relation_sum_daily</td><td>2020-05-08</td><td>0</td><td>2020-05-05</td><td>3</td><td>daily</td><td>Y</td><td>N</td><td>/mnt/customer360-blob-output/C360/USAGE/l1_features/l1_usage_outgoing_call_relation_sum_daily/</td><td>2020-05-08</td></tr><tr><td>PROFILE</td><td>l3_features</td><td>l3_customer_profile_billing_level_volume_of_active_contracts</td><td>2020-04-15</td><td>23</td><td>2020-03-01</td><td>38</td><td>monthly</td><td>N</td><td>N</td><td>/mnt/customer360-blob-output/C360/PROFILE/l3_features/l3_customer_profile_billing_level_volume_of_active_contracts/</td><td>2020-05-08</td></tr><tr><td>TOUCHPOINTS</td><td>l3_features</td><td>l3_touchpoints_to_call_center_features</td><td>2020-04-08</td><td>30</td><td>2020-03-01</td><td>38</td><td>monthly</td><td>N</td><td>N</td><td>/mnt/customer360-blob-output/C360/TOUCHPOINTS/l3_features/l3_touchpoints_to_call_center_features/</td><td>2020-05-08</td></tr><tr><td>BILLING</td><td>l1_features</td><td>l1_billing_and_payments_daily_before_top_up_balance</td><td>2020-05-08</td><td>0</td><td>2020-05-02</td><td>6</td><td>daily</td><td>Y</td><td>N</td><td>/mnt/customer360-blob-output/C360/BILLING/l1_features/l1_billing_and_payments_daily_before_top_up_balance/</td><td>2020-05-08</td></tr><tr><td>TOUCHPOINTS</td><td>l1_features</td><td>l1_touchpoints_from_call_center_features</td><td>2020-04-08</td><td>30</td><td>2020-03-11</td><td>58</td><td>daily</td><td>N</td><td>Y</td><td>/mnt/customer360-blob-output/C360/TOUCHPOINTS/l1_features/l1_touchpoints_from_call_center_features/</td><td>2020-05-08</td></tr><tr><td>BILLING</td><td>l2_features</td><td>l2_billing_and_payments_weekly_last_top_up_channel</td><td>2020-05-04</td><td>4</td><td>2020-04-20</td><td>12</td><td>weekly</td><td>N</td><td>N</td><td>/mnt/customer360-blob-output/C360/BILLING/l2_features/l2_billing_and_payments_weekly_last_top_up_channel/</td><td>2020-05-08</td></tr><tr><td>BILLING</td><td>l2_features</td><td>l2_billing_and_payments_weekly_popular_topup_day</td><td>2020-05-04</td><td>4</td><td>2020-04-20</td><td>12</td><td>weekly</td><td>N</td><td>N</td><td>/mnt/customer360-blob-output/C360/BILLING/l2_features/l2_billing_and_payments_weekly_popular_topup_day/</td><td>2020-05-08</td></tr><tr><td>DEVICE</td><td>l1_features</td><td>l1_devices_summary_customer_handset_daily</td><td>2020-05-08</td><td>0</td><td>2020-05-01</td><td>7</td><td>daily</td><td>Y</td><td>N</td><td>/mnt/customer360-blob-output/C360/DEVICE/l1_features/l1_devices_summary_customer_handset_daily/</td><td>2020-05-08</td></tr><tr><td>STREAM</td><td>l1_features</td><td>l1_streaming_session_duration_feature</td><td>2020-04-17</td><td>21</td><td>2019-10-20</td><td>201</td><td>daily</td><td>N</td><td>Y</td><td>/mnt/customer360-blob-output/C360/STREAM/l1_features/l1_streaming_session_duration_feature/</td><td>2020-05-08</td></tr><tr><td>USAGE</td><td>l1_features</td><td>l1_usage_ru_a_gprs_cbs_usage_daily</td><td>2020-05-08</td><td>0</td><td>2020-05-01</td><td>7</td><td>daily</td><td>Y</td><td>N</td><td>/mnt/customer360-blob-output/C360/USAGE/l1_features/l1_usage_ru_a_gprs_cbs_usage_daily/</td><td>2020-05-08</td></tr><tr><td>TOUCHPOINTS</td><td>l1_features</td><td>l1_touchpoints_to_call_center_features</td><td>2020-04-08</td><td>30</td><td>2020-03-11</td><td>58</td><td>daily</td><td>N</td><td>Y</td><td>/mnt/customer360-blob-output/C360/TOUCHPOINTS/l1_features/l1_touchpoints_to_call_center_features/</td><td>2020-05-08</td></tr><tr><td>TOUCHPOINTS</td><td>l1_features</td><td>l1_touchpoints_nim_work_features</td><td>2020-04-08</td><td>30</td><td>2020-04-05</td><td>33</td><td>daily</td><td>N</td><td>Y</td><td>/mnt/customer360-blob-output/C360/TOUCHPOINTS/l1_features/l1_touchpoints_nim_work_features/</td><td>2020-05-08</td></tr><tr><td>BILLING</td><td>l2_features</td><td>l2_billing_and_payments_weekly_topup_and_volume</td><td>2020-05-04</td><td>4</td><td>2020-04-20</td><td>12</td><td>weekly</td><td>N</td><td>N</td><td>/mnt/customer360-blob-output/C360/BILLING/l2_features/l2_billing_and_payments_weekly_topup_and_volume/</td><td>2020-05-08</td></tr><tr><td>TOUCHPOINTS</td><td>l2_features</td><td>l2_touchpoints_from_call_center_features</td><td>2020-04-08</td><td>30</td><td>2020-03-09</td><td>54</td><td>weekly</td><td>N</td><td>Y</td><td>/mnt/customer360-blob-output/C360/TOUCHPOINTS/l2_features/l2_touchpoints_from_call_center_features/</td><td>2020-05-08</td></tr><tr><td>PROFILE</td><td>l1_features</td><td>l1_customer_profile_union_daily_feature</td><td>2020-05-08</td><td>0</td><td>2020-05-08</td><td>0</td><td>daily</td><td>Y</td><td>N</td><td>/mnt/customer360-blob-output/C360/PROFILE/l1_features/l1_customer_profile_union_daily_feature/</td><td>2020-05-08</td></tr><tr><td>USAGE</td><td>l1_features</td><td>l1_usage_ru_a_vas_postpaid_prepaid_daily</td><td>2020-04-30</td><td>8</td><td>2020-04-23</td><td>15</td><td>daily</td><td>N</td><td>Y</td><td>/mnt/customer360-blob-output/C360/USAGE/l1_features/l1_usage_ru_a_vas_postpaid_prepaid_daily/</td><td>2020-05-08</td></tr><tr><td>REVENUE</td><td>l3_features</td><td>l3_revenue_prepaid_ru_f_sum_revenue_by_service_monthly</td><td>2020-05-07</td><td>1</td><td>2020-03-01</td><td>38</td><td>monthly</td><td>N</td><td>N</td><td>/mnt/customer360-blob-output/C360/REVENUE/l3_features/l3_revenue_prepaid_ru_f_sum_revenue_by_service_monthly/</td><td>2020-05-08</td></tr><tr><td>REVENUE</td><td>l1_features</td><td>l1_revenue_prepaid_pru_f_usage_multi_daily</td><td>2020-05-07</td><td>1</td><td>2020-04-30</td><td>8</td><td>daily</td><td>N</td><td>N</td><td>/mnt/customer360-blob-output/C360/REVENUE/l1_features/l1_revenue_prepaid_pru_f_usage_multi_daily/</td><td>2020-05-08</td></tr><tr><td>USAGE</td><td>l1_features</td><td>l1_usage_incoming_call_relation_sum_daily</td><td>2020-05-08</td><td>0</td><td>2020-05-05</td><td>3</td><td>daily</td><td>Y</td><td>N</td><td>/mnt/customer360-blob-output/C360/USAGE/l1_features/l1_usage_incoming_call_relation_sum_daily/</td><td>2020-05-08</td></tr><tr><td>TOUCHPOINTS</td><td>l2_features</td><td>l2_touchpoints_nim_work_features</td><td>2020-04-08</td><td>30</td><td>2020-03-30</td><td>33</td><td>weekly</td><td>N</td><td>Y</td><td>/mnt/customer360-blob-output/C360/TOUCHPOINTS/l2_features/l2_touchpoints_nim_work_features/</td><td>2020-05-08</td></tr><tr><td>STREAM</td><td>l1_features</td><td>int_l1_streaming_content_type_features</td><td>2020-04-15</td><td>23</td><td>2019-08-30</td><td>252</td><td>daily</td><td>N</td><td>Y</td><td>/mnt/customer360-blob-output/C360/STREAM/l1_features/int_l1_streaming_content_type_features/</td><td>2020-05-08</td></tr><tr><td>BILLING</td><td>l2_features</td><td>l2_billing_and_payments_weekly_most_popular_top_up_channel_intermediate</td><td>2020-05-04</td><td>4</td><td>2020-04-20</td><td>12</td><td>weekly</td><td>N</td><td>N</td><td>/mnt/customer360-blob-output/C360/BILLING/l2_features/l2_billing_and_payments_weekly_most_popular_top_up_channel_intermediate/</td><td>2020-05-08</td></tr><tr><td>BILLING</td><td>l1_features</td><td>l1_billing_and_payments_daily_top_up_channels</td><td>2020-05-08</td><td>0</td><td>2020-05-01</td><td>7</td><td>daily</td><td>Y</td><td>N</td><td>/mnt/customer360-blob-output/C360/BILLING/l1_features/l1_billing_and_payments_daily_top_up_channels/</td><td>2020-05-08</td></tr><tr><td>TOUCHPOINTS</td><td>l2_features</td><td>l2_touchpoints_to_call_center_features</td><td>2020-04-08</td><td>30</td><td>2020-03-09</td><td>54</td><td>weekly</td><td>N</td><td>Y</td><td>/mnt/customer360-blob-output/C360/TOUCHPOINTS/l2_features/l2_touchpoints_to_call_center_features/</td><td>2020-05-08</td></tr><tr><td>BILLING</td><td>l2_features</td><td>l2_billing_and_payments_weekly_most_popular_top_up_channel</td><td>2020-05-04</td><td>4</td><td>2020-04-20</td><td>12</td><td>weekly</td><td>N</td><td>N</td><td>/mnt/customer360-blob-output/C360/BILLING/l2_features/l2_billing_and_payments_weekly_most_popular_top_up_channel/</td><td>2020-05-08</td></tr><tr><td>BILLING</td><td>l1_features</td><td>l1_billing_and_payments_daily_rpu_roaming</td><td>2020-05-08</td><td>0</td><td>2020-05-01</td><td>7</td><td>daily</td><td>Y</td><td>N</td><td>/mnt/customer360-blob-output/C360/BILLING/l1_features/l1_billing_and_payments_daily_rpu_roaming/</td><td>2020-05-08</td></tr><tr><td>BILLING</td><td>l2_features</td><td>l2_billing_and_payments_weekly_time_since_last_top_up</td><td>2020-05-04</td><td>4</td><td>2020-04-20</td><td>12</td><td>weekly</td><td>N</td><td>N</td><td>/mnt/customer360-blob-output/C360/BILLING/l2_features/l2_billing_and_payments_weekly_time_since_last_top_up/</td><td>2020-05-08</td></tr><tr><td>BILLING</td><td>l1_features</td><td>l1_billing_and_payments_daily_popular_topup_day</td><td>2020-05-08</td><td>0</td><td>2020-05-01</td><td>7</td><td>daily</td><td>Y</td><td>N</td><td>/mnt/customer360-blob-output/C360/BILLING/l1_features/l1_billing_and_payments_daily_popular_topup_day/</td><td>2020-05-08</td></tr><tr><td>CAMPAIGN</td><td>l1_features</td><td>l1_campaign_post_pre_daily</td><td>2020-05-01</td><td>7</td><td>2020-04-10</td><td>28</td><td>daily</td><td>N</td><td>Y</td><td>/mnt/customer360-blob-output/C360/CAMPAIGN/l1_features/l1_campaign_post_pre_daily/</td><td>2020-05-08</td></tr><tr><td>USAGE</td><td>l1_features</td><td>l1_usage_outgoing_call_relation_sum_ir_daily</td><td>2020-05-07</td><td>1</td><td>2020-04-30</td><td>8</td><td>daily</td><td>N</td><td>N</td><td>/mnt/customer360-blob-output/C360/USAGE/l1_features/l1_usage_outgoing_call_relation_sum_ir_daily/</td><td>2020-05-08</td></tr><tr><td>DIGITAL</td><td>l3_features</td><td>l3_digital_cxenxse_user_profile_monthly</td><td>2020-04-29</td><td>9</td><td>1970-01-01</td><td>18360</td><td>monthly</td><td>N</td><td>N</td><td>/mnt/customer360-blob-output/C360/DIGITAL/l3_features/l3_digital_cxenxse_user_profile_monthly/</td><td>2020-05-08</td></tr><tr><td>BILLING</td><td>l1_features</td><td>l1_billing_and_payments_daily_most_popular_top_up_channel</td><td>2020-05-08</td><td>0</td><td>2020-05-01</td><td>7</td><td>daily</td><td>Y</td><td>N</td><td>/mnt/customer360-blob-output/C360/BILLING/l1_features/l1_billing_and_payments_daily_most_popular_top_up_channel/</td><td>2020-05-08</td></tr><tr><td>BILLING</td><td>l2_features</td><td>l2_billing_and_payments_weekly_popular_topup_hour</td><td>2020-05-04</td><td>4</td><td>2020-04-20</td><td>12</td><td>weekly</td><td>N</td><td>N</td><td>/mnt/customer360-blob-output/C360/BILLING/l2_features/l2_billing_and_payments_weekly_popular_topup_hour/</td><td>2020-05-08</td></tr></tbody></table></div>"
      ]
     },
     "metadata": {},
     "output_type": "display_data"
    }
   ],
   "source": [
    "display(ops_report.select(\"Domain_Name\",\"Feature_Layer\",\"Dataset_Name\",\"Last_Data_Refresh_Date\",\"Days_Since_Last_Refresh\",\"Latest_Data_Partition_Available\",\"Data_Latency\",\"Data_Refresh_Freq\",\"Is_Data_Refresh_Today\" ,\"Need_Supervision\", \"Dataset_Path\",\"ops_report_updated_date\"))"
   ]
  },
  {
   "cell_type": "code",
   "execution_count": 8,
   "metadata": {},
   "outputs": [
    {
     "data": {
      "text/html": [
       "<style scoped>\n",
       "  .ansiout {\n",
       "    display: block;\n",
       "    unicode-bidi: embed;\n",
       "    white-space: pre-wrap;\n",
       "    word-wrap: break-word;\n",
       "    word-break: break-all;\n",
       "    font-family: \"Source Code Pro\", \"Menlo\", monospace;;\n",
       "    font-size: 13px;\n",
       "    color: #555;\n",
       "    margin-left: 4px;\n",
       "    line-height: 19px;\n",
       "  }\n",
       "</style>\n",
       "<div class=\"ansiout\"></div>"
      ]
     },
     "metadata": {},
     "output_type": "display_data"
    }
   ],
   "source": [
    "ops_report = ops_report.select(\"Domain_Name\",\"Feature_Layer\",\"Dataset_Name\",\"Last_Data_Refresh_Date\",\"Days_Since_Last_Refresh\",\"Latest_Data_Partition_Available\",\"Data_Latency\",\"Data_Refresh_Freq\",\"Is_Data_Refresh_Today\" ,\"Need_Supervision\", \"Dataset_Path\",\"ops_report_updated_date\")\n",
    "\n",
    "ops_report.write.partitionBy(\"ops_report_updated_date\").format(\"parquet\").mode(\"append\").save(\"/mnt/customer360-blob-output/C360/ops_report/\")"
   ]
  },
  {
   "cell_type": "code",
   "execution_count": 9,
   "metadata": {},
   "outputs": [
    {
     "data": {
      "text/html": [
       "<style scoped>\n",
       "  .table-result-container {\n",
       "    max-height: 300px;\n",
       "    overflow: auto;\n",
       "  }\n",
       "  table, th, td {\n",
       "    border: 1px solid black;\n",
       "    border-collapse: collapse;\n",
       "  }\n",
       "  th, td {\n",
       "    padding: 5px;\n",
       "  }\n",
       "  th {\n",
       "    text-align: left;\n",
       "  }\n",
       "</style><div class='table-result-container'><table class='table-result'><thead style='background-color: white'><tr><th>Domain_Name</th><th>Feature_Layer</th><th>Dataset_Name</th><th>Last_Data_Refresh_Date</th><th>Days_Since_Last_Refresh</th><th>Latest_Data_Partition_Available</th><th>Data_Latency</th><th>Data_Refresh_Freq</th><th>Is_Data_Refresh_Today</th><th>Need_Supervision</th><th>Dataset_Path</th><th>ops_report_updated_date</th></tr></thead><tbody><tr><td>BILLING</td><td>l2_features</td><td>l2_billing_and_payments_weekly_popular_topup_day_intermediate</td><td>2020-05-04</td><td>4</td><td>2020-04-20</td><td>12</td><td>weekly</td><td>N</td><td>N</td><td>/mnt/customer360-blob-output/C360/BILLING/l2_features/l2_billing_and_payments_weekly_popular_topup_day_intermediate/</td><td>2020-05-08</td></tr><tr><td>BILLING</td><td>l2_features</td><td>l2_billing_and_payments_weekly_most_popular_top_up_channel</td><td>2020-05-04</td><td>4</td><td>2020-04-20</td><td>12</td><td>weekly</td><td>N</td><td>N</td><td>/mnt/customer360-blob-output/C360/BILLING/l2_features/l2_billing_and_payments_weekly_most_popular_top_up_channel/</td><td>2020-05-08</td></tr><tr><td>REVENUE</td><td>l3_features</td><td>l3_revenue_postpaid_ru_f_sum_revenue_by_service_monthly</td><td>2020-05-07</td><td>1</td><td>2020-03-01</td><td>38</td><td>monthly</td><td>N</td><td>N</td><td>/mnt/customer360-blob-output/C360/REVENUE/l3_features/l3_revenue_postpaid_ru_f_sum_revenue_by_service_monthly/</td><td>2020-05-08</td></tr><tr><td>REVENUE</td><td>l3_features</td><td>l3_revenue_prepaid_ru_f_sum_revenue_by_service_monthly</td><td>2020-05-07</td><td>1</td><td>2020-03-01</td><td>38</td><td>monthly</td><td>N</td><td>N</td><td>/mnt/customer360-blob-output/C360/REVENUE/l3_features/l3_revenue_prepaid_ru_f_sum_revenue_by_service_monthly/</td><td>2020-05-08</td></tr><tr><td>BILLING</td><td>l2_features</td><td>l2_billing_and_payments_weekly_time_since_last_top_up</td><td>2020-05-04</td><td>4</td><td>2020-04-20</td><td>12</td><td>weekly</td><td>N</td><td>N</td><td>/mnt/customer360-blob-output/C360/BILLING/l2_features/l2_billing_and_payments_weekly_time_since_last_top_up/</td><td>2020-05-08</td></tr><tr><td>STREAM</td><td>l1_features</td><td>l1_streaming_visit_count_and_download_traffic_feature</td><td>2020-04-16</td><td>22</td><td>2020-04-08</td><td>30</td><td>daily</td><td>N</td><td>Y</td><td>/mnt/customer360-blob-output/C360/STREAM/l1_features/l1_streaming_visit_count_and_download_traffic_feature/</td><td>2020-05-08</td></tr><tr><td>BILLING</td><td>l1_features</td><td>l1_billing_and_payments_daily_time_since_last_top_up</td><td>2020-05-08</td><td>0</td><td>2020-05-01</td><td>7</td><td>daily</td><td>Y</td><td>N</td><td>/mnt/customer360-blob-output/C360/BILLING/l1_features/l1_billing_and_payments_daily_time_since_last_top_up/</td><td>2020-05-08</td></tr><tr><td>BILLING</td><td>l1_features</td><td>l1_billing_and_payments_daily_before_top_up_balance</td><td>2020-05-08</td><td>0</td><td>2020-05-02</td><td>6</td><td>daily</td><td>Y</td><td>N</td><td>/mnt/customer360-blob-output/C360/BILLING/l1_features/l1_billing_and_payments_daily_before_top_up_balance/</td><td>2020-05-08</td></tr><tr><td>BILLING</td><td>l2_features</td><td>l2_billing_and_payments_weekly_last_top_up_channel</td><td>2020-05-04</td><td>4</td><td>2020-04-20</td><td>12</td><td>weekly</td><td>N</td><td>N</td><td>/mnt/customer360-blob-output/C360/BILLING/l2_features/l2_billing_and_payments_weekly_last_top_up_channel/</td><td>2020-05-08</td></tr><tr><td>BILLING</td><td>l2_features</td><td>l2_billing_and_payments_weekly_popular_topup_day</td><td>2020-05-04</td><td>4</td><td>2020-04-20</td><td>12</td><td>weekly</td><td>N</td><td>N</td><td>/mnt/customer360-blob-output/C360/BILLING/l2_features/l2_billing_and_payments_weekly_popular_topup_day/</td><td>2020-05-08</td></tr><tr><td>BILLING</td><td>l2_features</td><td>l2_billing_and_payments_weekly_topup_and_volume</td><td>2020-05-04</td><td>4</td><td>2020-04-20</td><td>12</td><td>weekly</td><td>N</td><td>N</td><td>/mnt/customer360-blob-output/C360/BILLING/l2_features/l2_billing_and_payments_weekly_topup_and_volume/</td><td>2020-05-08</td></tr><tr><td>PRODUCT</td><td>l2_features</td><td>l2_product_activated_deactivated_features_weekly</td><td>2020-04-09</td><td>29</td><td>2020-04-06</td><td>26</td><td>weekly</td><td>N</td><td>Y</td><td>/mnt/customer360-blob-output/C360/PRODUCT/l2_features/l2_product_activated_deactivated_features_weekly/</td><td>2020-05-08</td></tr><tr><td>BILLING</td><td>l1_features</td><td>l1_billing_and_payments_daily_popular_topup_day</td><td>2020-05-08</td><td>0</td><td>2020-05-01</td><td>7</td><td>daily</td><td>Y</td><td>N</td><td>/mnt/customer360-blob-output/C360/BILLING/l1_features/l1_billing_and_payments_daily_popular_topup_day/</td><td>2020-05-08</td></tr><tr><td>BILLING</td><td>l2_features</td><td>l2_billing_and_payments_weekly_top_up_channels</td><td>2020-05-04</td><td>4</td><td>2020-04-20</td><td>12</td><td>weekly</td><td>N</td><td>N</td><td>/mnt/customer360-blob-output/C360/BILLING/l2_features/l2_billing_and_payments_weekly_top_up_channels/</td><td>2020-05-08</td></tr><tr><td>BILLING</td><td>l2_features</td><td>l2_billing_and_payments_weekly_topup_time_diff</td><td>2020-05-04</td><td>4</td><td>2020-04-20</td><td>12</td><td>weekly</td><td>N</td><td>N</td><td>/mnt/customer360-blob-output/C360/BILLING/l2_features/l2_billing_and_payments_weekly_topup_time_diff/</td><td>2020-05-08</td></tr><tr><td>BILLING</td><td>l1_features</td><td>l1_billing_and_payments_daily_topup_and_volume</td><td>2020-05-08</td><td>0</td><td>2020-05-01</td><td>7</td><td>daily</td><td>Y</td><td>N</td><td>/mnt/customer360-blob-output/C360/BILLING/l1_features/l1_billing_and_payments_daily_topup_and_volume/</td><td>2020-05-08</td></tr><tr><td>TOUCHPOINTS</td><td>l3_features</td><td>l3_touchpoints_from_call_center_features</td><td>2020-04-08</td><td>30</td><td>2020-03-01</td><td>38</td><td>monthly</td><td>N</td><td>N</td><td>/mnt/customer360-blob-output/C360/TOUCHPOINTS/l3_features/l3_touchpoints_from_call_center_features/</td><td>2020-05-08</td></tr><tr><td>PRODUCT</td><td>l1_features</td><td>l1_product_active_fbb_customer_features_daily</td><td>2020-04-07</td><td>31</td><td>2020-03-23</td><td>46</td><td>daily</td><td>N</td><td>Y</td><td>/mnt/customer360-blob-output/C360/PRODUCT/l1_features/l1_product_active_fbb_customer_features_daily/</td><td>2020-05-08</td></tr><tr><td>TOUCHPOINTS</td><td>l2_features</td><td>l2_touchpoints_from_call_center_features</td><td>2020-04-08</td><td>30</td><td>2020-03-09</td><td>54</td><td>weekly</td><td>N</td><td>Y</td><td>/mnt/customer360-blob-output/C360/TOUCHPOINTS/l2_features/l2_touchpoints_from_call_center_features/</td><td>2020-05-08</td></tr><tr><td>TOUCHPOINTS</td><td>l1_features</td><td>l1_touchpoints_from_call_center_features</td><td>2020-04-08</td><td>30</td><td>2020-03-11</td><td>58</td><td>daily</td><td>N</td><td>Y</td><td>/mnt/customer360-blob-output/C360/TOUCHPOINTS/l1_features/l1_touchpoints_from_call_center_features/</td><td>2020-05-08</td></tr><tr><td>REVENUE</td><td>l2_features</td><td>l2_revenue_prepaid_pru_f_usage_multi_weekly</td><td>2020-05-04</td><td>4</td><td>2020-04-20</td><td>12</td><td>weekly</td><td>N</td><td>N</td><td>/mnt/customer360-blob-output/C360/REVENUE/l2_features/l2_revenue_prepaid_pru_f_usage_multi_weekly/</td><td>2020-05-08</td></tr><tr><td>GEO</td><td>l1_features</td><td>l1_geo_usage_sum_data_location_dow_intermediate</td><td>2020-04-30</td><td>8</td><td>2019-12-16</td><td>144</td><td>daily</td><td>N</td><td>Y</td><td>/mnt/customer360-blob-output/C360/GEO/l1_features/l1_geo_usage_sum_data_location_dow_intermediate/</td><td>2020-05-08</td></tr><tr><td>PROFILE</td><td>l3_features</td><td>l3_customer_profile_include_1mo_non_active</td><td>2020-04-07</td><td>31</td><td>2020-02-01</td><td>69</td><td>monthly</td><td>N</td><td>N</td><td>/mnt/customer360-blob-output/C360/PROFILE/l3_features/l3_customer_profile_include_1mo_non_active/</td><td>2020-05-08</td></tr><tr><td>PROFILE</td><td>l3_features</td><td>l3_customer_profile_billing_level_features</td><td>2020-04-07</td><td>31</td><td>2020-02-01</td><td>69</td><td>monthly</td><td>N</td><td>N</td><td>/mnt/customer360-blob-output/C360/PROFILE/l3_features/l3_customer_profile_billing_level_features/</td><td>2020-05-08</td></tr><tr><td>BILLING</td><td>l2_features</td><td>l2_billing_and_payments_weekly_rpu_roaming</td><td>2020-04-29</td><td>9</td><td>2020-04-13</td><td>19</td><td>weekly</td><td>N</td><td>Y</td><td>/mnt/customer360-blob-output/C360/BILLING/l2_features/l2_billing_and_payments_weekly_rpu_roaming/</td><td>2020-05-08</td></tr><tr><td>TOUCHPOINTS</td><td>l1_features</td><td>l1_touchpoints_to_call_center_features</td><td>2020-04-08</td><td>30</td><td>2020-03-11</td><td>58</td><td>daily</td><td>N</td><td>Y</td><td>/mnt/customer360-blob-output/C360/TOUCHPOINTS/l1_features/l1_touchpoints_to_call_center_features/</td><td>2020-05-08</td></tr><tr><td>USAGE</td><td>l1_features</td><td>l1_usage_incoming_call_relation_sum_ir_daily</td><td>2020-05-07</td><td>1</td><td>2020-04-30</td><td>8</td><td>daily</td><td>N</td><td>N</td><td>/mnt/customer360-blob-output/C360/USAGE/l1_features/l1_usage_incoming_call_relation_sum_ir_daily/</td><td>2020-05-08</td></tr><tr><td>BILLING</td><td>l1_features</td><td>l1_billing_and_payments_daily_rpu_roaming</td><td>2020-05-08</td><td>0</td><td>2020-05-01</td><td>7</td><td>daily</td><td>Y</td><td>N</td><td>/mnt/customer360-blob-output/C360/BILLING/l1_features/l1_billing_and_payments_daily_rpu_roaming/</td><td>2020-05-08</td></tr><tr><td>DEVICE</td><td>l1_features</td><td>l1_devices_summary_customer_handset_daily</td><td>2020-05-08</td><td>0</td><td>2020-05-01</td><td>7</td><td>daily</td><td>Y</td><td>N</td><td>/mnt/customer360-blob-output/C360/DEVICE/l1_features/l1_devices_summary_customer_handset_daily/</td><td>2020-05-08</td></tr><tr><td>PROFILE</td><td>l1_features</td><td>l1_customer_profile_union_daily_feature</td><td>2020-05-08</td><td>0</td><td>2020-05-08</td><td>0</td><td>daily</td><td>Y</td><td>N</td><td>/mnt/customer360-blob-output/C360/PROFILE/l1_features/l1_customer_profile_union_daily_feature/</td><td>2020-05-08</td></tr><tr><td>USAGE</td><td>l1_features</td><td>l1_usage_ru_a_vas_postpaid_prepaid_daily</td><td>2020-04-30</td><td>8</td><td>2020-04-23</td><td>15</td><td>daily</td><td>N</td><td>Y</td><td>/mnt/customer360-blob-output/C360/USAGE/l1_features/l1_usage_ru_a_vas_postpaid_prepaid_daily/</td><td>2020-05-08</td></tr><tr><td>CAMPAIGN</td><td>l2_features</td><td>l2_campaign_postpaid_prepaid_weekly</td><td>2020-05-01</td><td>7</td><td>2020-03-30</td><td>33</td><td>weekly</td><td>N</td><td>N</td><td>/mnt/customer360-blob-output/C360/CAMPAIGN/l2_features/l2_campaign_postpaid_prepaid_weekly/</td><td>2020-05-08</td></tr><tr><td>TOUCHPOINTS</td><td>l2_features</td><td>l2_touchpoints_nim_work_features</td><td>2020-04-08</td><td>30</td><td>2020-03-30</td><td>33</td><td>weekly</td><td>N</td><td>Y</td><td>/mnt/customer360-blob-output/C360/TOUCHPOINTS/l2_features/l2_touchpoints_nim_work_features/</td><td>2020-05-08</td></tr><tr><td>TOUCHPOINTS</td><td>l1_features</td><td>l1_touchpoints_nim_work_features</td><td>2020-04-08</td><td>30</td><td>2020-04-05</td><td>33</td><td>daily</td><td>N</td><td>Y</td><td>/mnt/customer360-blob-output/C360/TOUCHPOINTS/l1_features/l1_touchpoints_nim_work_features/</td><td>2020-05-08</td></tr><tr><td>DEVICE</td><td>l2_features</td><td>l2_device_summary_with_config_weekly</td><td>2020-05-04</td><td>4</td><td>2020-04-20</td><td>12</td><td>weekly</td><td>N</td><td>N</td><td>/mnt/customer360-blob-output/C360/DEVICE/l2_features/l2_device_summary_with_config_weekly/</td><td>2020-05-08</td></tr><tr><td>USAGE</td><td>l1_features</td><td>l1_usage_ru_a_vas_postpaid_usg_daily</td><td>2020-05-08</td><td>0</td><td>2020-04-23</td><td>15</td><td>daily</td><td>Y</td><td>N</td><td>/mnt/customer360-blob-output/C360/USAGE/l1_features/l1_usage_ru_a_vas_postpaid_usg_daily/</td><td>2020-05-08</td></tr><tr><td>USAGE</td><td>l1_features</td><td>l1_usage_outgoing_call_relation_sum_daily</td><td>2020-05-08</td><td>0</td><td>2020-05-05</td><td>3</td><td>daily</td><td>Y</td><td>N</td><td>/mnt/customer360-blob-output/C360/USAGE/l1_features/l1_usage_outgoing_call_relation_sum_daily/</td><td>2020-05-08</td></tr><tr><td>PROFILE</td><td>l3_features</td><td>l3_customer_profile_billing_level_volume_of_active_contracts</td><td>2020-04-15</td><td>23</td><td>2020-03-01</td><td>38</td><td>monthly</td><td>N</td><td>N</td><td>/mnt/customer360-blob-output/C360/PROFILE/l3_features/l3_customer_profile_billing_level_volume_of_active_contracts/</td><td>2020-05-08</td></tr><tr><td>TOUCHPOINTS</td><td>l3_features</td><td>l3_touchpoints_to_call_center_features</td><td>2020-04-08</td><td>30</td><td>2020-03-01</td><td>38</td><td>monthly</td><td>N</td><td>N</td><td>/mnt/customer360-blob-output/C360/TOUCHPOINTS/l3_features/l3_touchpoints_to_call_center_features/</td><td>2020-05-08</td></tr><tr><td>CAMPAIGN</td><td>l2_features</td><td>l2_campaign_top_channel_weekly</td><td>2020-05-01</td><td>7</td><td>2020-03-30</td><td>33</td><td>weekly</td><td>N</td><td>N</td><td>/mnt/customer360-blob-output/C360/CAMPAIGN/l2_features/l2_campaign_top_channel_weekly/</td><td>2020-05-08</td></tr><tr><td>USAGE</td><td>l1_features</td><td>l1_usage_postpaid_prepaid_daily</td><td>2020-05-08</td><td>0</td><td>2020-04-23</td><td>15</td><td>daily</td><td>Y</td><td>N</td><td>/mnt/customer360-blob-output/C360/USAGE/l1_features/l1_usage_postpaid_prepaid_daily/</td><td>2020-05-08</td></tr><tr><td>BILLING</td><td>l2_features</td><td>l2_billing_and_payments_weekly_popular_topup_hour_intermediate</td><td>2020-05-04</td><td>4</td><td>2020-04-20</td><td>12</td><td>weekly</td><td>N</td><td>N</td><td>/mnt/customer360-blob-output/C360/BILLING/l2_features/l2_billing_and_payments_weekly_popular_topup_hour_intermediate/</td><td>2020-05-08</td></tr><tr><td>BILLING</td><td>l3_features</td><td>l3_billing_and_payments_monthly_topup_and_volume</td><td>2020-04-26</td><td>12</td><td>2020-03-01</td><td>38</td><td>monthly</td><td>N</td><td>N</td><td>/mnt/customer360-blob-output/C360/BILLING/l3_features/l3_billing_and_payments_monthly_topup_and_volume/</td><td>2020-05-08</td></tr><tr><td>STREAM</td><td>l1_features</td><td>int_l1_streaming_content_type_features</td><td>2020-04-15</td><td>23</td><td>2019-08-30</td><td>252</td><td>daily</td><td>N</td><td>Y</td><td>/mnt/customer360-blob-output/C360/STREAM/l1_features/int_l1_streaming_content_type_features/</td><td>2020-05-08</td></tr><tr><td>BILLING</td><td>l2_features</td><td>l2_billing_and_payments_weekly_most_popular_top_up_channel_intermediate</td><td>2020-05-04</td><td>4</td><td>2020-04-20</td><td>12</td><td>weekly</td><td>N</td><td>N</td><td>/mnt/customer360-blob-output/C360/BILLING/l2_features/l2_billing_and_payments_weekly_most_popular_top_up_channel_intermediate/</td><td>2020-05-08</td></tr><tr><td>BILLING</td><td>l1_features</td><td>l1_billing_and_payments_daily_most_popular_top_up_channel</td><td>2020-05-08</td><td>0</td><td>2020-05-01</td><td>7</td><td>daily</td><td>Y</td><td>N</td><td>/mnt/customer360-blob-output/C360/BILLING/l1_features/l1_billing_and_payments_daily_most_popular_top_up_channel/</td><td>2020-05-08</td></tr><tr><td>BILLING</td><td>l2_features</td><td>l2_billing_and_payments_weekly_popular_topup_hour</td><td>2020-05-04</td><td>4</td><td>2020-04-20</td><td>12</td><td>weekly</td><td>N</td><td>N</td><td>/mnt/customer360-blob-output/C360/BILLING/l2_features/l2_billing_and_payments_weekly_popular_topup_hour/</td><td>2020-05-08</td></tr><tr><td>CAMPAIGN</td><td>l1_features</td><td>l1_campaign_post_pre_daily</td><td>2020-05-01</td><td>7</td><td>2020-04-10</td><td>28</td><td>daily</td><td>N</td><td>Y</td><td>/mnt/customer360-blob-output/C360/CAMPAIGN/l1_features/l1_campaign_post_pre_daily/</td><td>2020-05-08</td></tr><tr><td>USAGE</td><td>l1_features</td><td>l1_usage_outgoing_call_relation_sum_ir_daily</td><td>2020-05-07</td><td>1</td><td>2020-04-30</td><td>8</td><td>daily</td><td>N</td><td>N</td><td>/mnt/customer360-blob-output/C360/USAGE/l1_features/l1_usage_outgoing_call_relation_sum_ir_daily/</td><td>2020-05-08</td></tr><tr><td>DIGITAL</td><td>l3_features</td><td>l3_digital_cxenxse_user_profile_monthly</td><td>2020-04-29</td><td>9</td><td>1970-01-01</td><td>18360</td><td>monthly</td><td>N</td><td>N</td><td>/mnt/customer360-blob-output/C360/DIGITAL/l3_features/l3_digital_cxenxse_user_profile_monthly/</td><td>2020-05-08</td></tr><tr><td>REVENUE</td><td>l1_features</td><td>l1_revenue_prepaid_pru_f_usage_multi_daily</td><td>2020-05-07</td><td>1</td><td>2020-04-30</td><td>8</td><td>daily</td><td>N</td><td>N</td><td>/mnt/customer360-blob-output/C360/REVENUE/l1_features/l1_revenue_prepaid_pru_f_usage_multi_daily/</td><td>2020-05-08</td></tr><tr><td>USAGE</td><td>l1_features</td><td>l1_usage_incoming_call_relation_sum_daily</td><td>2020-05-08</td><td>0</td><td>2020-05-05</td><td>3</td><td>daily</td><td>Y</td><td>N</td><td>/mnt/customer360-blob-output/C360/USAGE/l1_features/l1_usage_incoming_call_relation_sum_daily/</td><td>2020-05-08</td></tr><tr><td>BILLING</td><td>l2_features</td><td>l2_billing_and_payments_weekly_last_three_topup_volume</td><td>2020-05-04</td><td>4</td><td>2020-04-20</td><td>12</td><td>weekly</td><td>N</td><td>N</td><td>/mnt/customer360-blob-output/C360/BILLING/l2_features/l2_billing_and_payments_weekly_last_three_topup_volume/</td><td>2020-05-08</td></tr><tr><td>TOUCHPOINTS</td><td>l3_features</td><td>l3_touchpoints_nim_work_features</td><td>2020-04-08</td><td>30</td><td>2020-04-01</td><td>8</td><td>monthly</td><td>N</td><td>N</td><td>/mnt/customer360-blob-output/C360/TOUCHPOINTS/l3_features/l3_touchpoints_nim_work_features/</td><td>2020-05-08</td></tr><tr><td>CAMPAIGN</td><td>l1_features</td><td>l1_campaign_top_channel_daily</td><td>2020-05-01</td><td>7</td><td>2020-04-10</td><td>28</td><td>daily</td><td>N</td><td>Y</td><td>/mnt/customer360-blob-output/C360/CAMPAIGN/l1_features/l1_campaign_top_channel_daily/</td><td>2020-05-08</td></tr><tr><td>BILLING</td><td>l2_features</td><td>l2_billing_and_payments_weekly_before_top_up_balance</td><td>2020-05-05</td><td>3</td><td>2020-04-20</td><td>12</td><td>weekly</td><td>N</td><td>N</td><td>/mnt/customer360-blob-output/C360/BILLING/l2_features/l2_billing_and_payments_weekly_before_top_up_balance/</td><td>2020-05-08</td></tr><tr><td>BILLING</td><td>l1_features</td><td>l1_billing_and_payments_daily_top_up_channels</td><td>2020-05-08</td><td>0</td><td>2020-05-01</td><td>7</td><td>daily</td><td>Y</td><td>N</td><td>/mnt/customer360-blob-output/C360/BILLING/l1_features/l1_billing_and_payments_daily_top_up_channels/</td><td>2020-05-08</td></tr><tr><td>TOUCHPOINTS</td><td>l2_features</td><td>l2_touchpoints_to_call_center_features</td><td>2020-04-08</td><td>30</td><td>2020-03-09</td><td>54</td><td>weekly</td><td>N</td><td>Y</td><td>/mnt/customer360-blob-output/C360/TOUCHPOINTS/l2_features/l2_touchpoints_to_call_center_features/</td><td>2020-05-08</td></tr><tr><td>PRODUCT</td><td>l1_features</td><td>l1_product_active_customer_promotion_features_daily</td><td>2020-04-08</td><td>30</td><td>2020-04-08</td><td>30</td><td>daily</td><td>N</td><td>Y</td><td>/mnt/customer360-blob-output/C360/PRODUCT/l1_features/l1_product_active_customer_promotion_features_daily/</td><td>2020-05-08</td></tr><tr><td>USAGE</td><td>l2_features</td><td>l2_usage_postpaid_prepaid_weekly</td><td>2020-05-07</td><td>1</td><td>2020-04-13</td><td>19</td><td>weekly</td><td>N</td><td>N</td><td>/mnt/customer360-blob-output/C360/USAGE/l2_features/l2_usage_postpaid_prepaid_weekly/</td><td>2020-05-08</td></tr><tr><td>STREAM</td><td>l1_features</td><td>l1_streaming_session_duration_feature</td><td>2020-04-17</td><td>21</td><td>2019-10-20</td><td>201</td><td>daily</td><td>N</td><td>Y</td><td>/mnt/customer360-blob-output/C360/STREAM/l1_features/l1_streaming_session_duration_feature/</td><td>2020-05-08</td></tr><tr><td>USAGE</td><td>l1_features</td><td>l1_usage_ru_a_gprs_cbs_usage_daily</td><td>2020-05-08</td><td>0</td><td>2020-05-01</td><td>7</td><td>daily</td><td>Y</td><td>N</td><td>/mnt/customer360-blob-output/C360/USAGE/l1_features/l1_usage_ru_a_gprs_cbs_usage_daily/</td><td>2020-05-08</td></tr></tbody></table></div>"
      ]
     },
     "metadata": {},
     "output_type": "display_data"
    }
   ],
   "source": [
    "display(spark.read.parquet('/mnt/customer360-blob-output/C360/ops_report/'))"
   ]
  },
  {
   "cell_type": "code",
   "execution_count": 10,
   "metadata": {},
   "outputs": [],
   "source": []
  }
 ],
 "metadata": {
  "kernelspec": {
   "display_name": "Python 3",
   "language": "python",
   "name": "python3"
  },
  "language_info": {
   "codemirror_mode": {
    "name": "ipython",
    "version": 3
   },
   "file_extension": ".py",
   "mimetype": "text/x-python",
   "name": "python",
   "nbconvert_exporter": "python",
   "pygments_lexer": "ipython3",
   "version": "3.7.3"
  },
  "name": "operational_report",
  "notebookId": 1752336216472208
 },
 "nbformat": 4,
 "nbformat_minor": 1
}